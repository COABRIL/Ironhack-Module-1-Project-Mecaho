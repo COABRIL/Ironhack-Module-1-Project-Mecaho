{
 "cells": [
  {
   "cell_type": "code",
   "execution_count": 142,
   "metadata": {},
   "outputs": [],
   "source": [
    "import pandas as pd\n",
    "import pymysql\n",
    "from sqlalchemy import create_engine"
   ]
  },
  {
   "cell_type": "markdown",
   "metadata": {},
   "source": [
    "# Connection and table import"
   ]
  },
  {
   "cell_type": "code",
   "execution_count": 143,
   "metadata": {},
   "outputs": [
    {
     "data": {
      "text/html": [
       "<div>\n",
       "<style scoped>\n",
       "    .dataframe tbody tr th:only-of-type {\n",
       "        vertical-align: middle;\n",
       "    }\n",
       "\n",
       "    .dataframe tbody tr th {\n",
       "        vertical-align: top;\n",
       "    }\n",
       "\n",
       "    .dataframe thead th {\n",
       "        text-align: right;\n",
       "    }\n",
       "</style>\n",
       "<table border=\"1\" class=\"dataframe\">\n",
       "  <thead>\n",
       "    <tr style=\"text-align: right;\">\n",
       "      <th></th>\n",
       "      <th>id</th>\n",
       "      <th>name</th>\n",
       "      <th>position</th>\n",
       "      <th>Unnamed: 0</th>\n",
       "    </tr>\n",
       "  </thead>\n",
       "  <tbody>\n",
       "    <tr>\n",
       "      <th>0</th>\n",
       "      <td>4513</td>\n",
       "      <td>anant asAVABHOKHIN &amp; FAMILY</td>\n",
       "      <td>NaN</td>\n",
       "      <td>0</td>\n",
       "    </tr>\n",
       "    <tr>\n",
       "      <th>1</th>\n",
       "      <td>8342</td>\n",
       "      <td>araSH FERDOwsi</td>\n",
       "      <td>NaN</td>\n",
       "      <td>1</td>\n",
       "    </tr>\n",
       "    <tr>\n",
       "      <th>2</th>\n",
       "      <td>9217</td>\n",
       "      <td>baNTHOON LAMSAM &amp; FAMILY</td>\n",
       "      <td>NaN</td>\n",
       "      <td>2</td>\n",
       "    </tr>\n",
       "    <tr>\n",
       "      <th>3</th>\n",
       "      <td>9846</td>\n",
       "      <td>bill addERLEY &amp; FAMILy</td>\n",
       "      <td>NaN</td>\n",
       "      <td>3</td>\n",
       "    </tr>\n",
       "    <tr>\n",
       "      <th>4</th>\n",
       "      <td>2255</td>\n",
       "      <td>boris zINGAREVICH</td>\n",
       "      <td>NaN</td>\n",
       "      <td>4</td>\n",
       "    </tr>\n",
       "    <tr>\n",
       "      <th>...</th>\n",
       "      <td>...</td>\n",
       "      <td>...</td>\n",
       "      <td>...</td>\n",
       "      <td>...</td>\n",
       "    </tr>\n",
       "    <tr>\n",
       "      <th>2255</th>\n",
       "      <td>3917</td>\n",
       "      <td>ZHAO XIAOQIang</td>\n",
       "      <td>2204.0</td>\n",
       "      <td>2255</td>\n",
       "    </tr>\n",
       "    <tr>\n",
       "      <th>2256</th>\n",
       "      <td>3721</td>\n",
       "      <td>zhou liANgzhang</td>\n",
       "      <td>2205.0</td>\n",
       "      <td>2256</td>\n",
       "    </tr>\n",
       "    <tr>\n",
       "      <th>2257</th>\n",
       "      <td>6132</td>\n",
       "      <td>zhU XINGMING</td>\n",
       "      <td>2206.0</td>\n",
       "      <td>2257</td>\n",
       "    </tr>\n",
       "    <tr>\n",
       "      <th>2258</th>\n",
       "      <td>7866</td>\n",
       "      <td>zhuo JUN</td>\n",
       "      <td>2207.0</td>\n",
       "      <td>2258</td>\n",
       "    </tr>\n",
       "    <tr>\n",
       "      <th>2259</th>\n",
       "      <td>2968</td>\n",
       "      <td>olGUN ZOrlu</td>\n",
       "      <td>2208.0</td>\n",
       "      <td>2259</td>\n",
       "    </tr>\n",
       "  </tbody>\n",
       "</table>\n",
       "<p>2260 rows × 4 columns</p>\n",
       "</div>"
      ],
      "text/plain": [
       "        id                         name  position  Unnamed: 0\n",
       "0     4513  anant asAVABHOKHIN & FAMILY       NaN           0\n",
       "1     8342               araSH FERDOwsi       NaN           1\n",
       "2     9217     baNTHOON LAMSAM & FAMILY       NaN           2\n",
       "3     9846       bill addERLEY & FAMILy       NaN           3\n",
       "4     2255            boris zINGAREVICH       NaN           4\n",
       "...    ...                          ...       ...         ...\n",
       "2255  3917               ZHAO XIAOQIang    2204.0        2255\n",
       "2256  3721              zhou liANgzhang    2205.0        2256\n",
       "2257  6132                 zhU XINGMING    2206.0        2257\n",
       "2258  7866                     zhuo JUN    2207.0        2258\n",
       "2259  2968                  olGUN ZOrlu    2208.0        2259\n",
       "\n",
       "[2260 rows x 4 columns]"
      ]
     },
     "metadata": {},
     "output_type": "display_data"
    }
   ],
   "source": [
    "DATABASE_PATH = '/home/cristina/ironhack/Ironhack-Module-1-Project-Mecaho/data/raw/cortega.db'\n",
    "engine = create_engine(f'sqlite:///{DATABASE_PATH}')\n",
    "rank_info = pd.read_sql_query(\"select * from rank_info\", engine)\n",
    "display(rank_info)"
   ]
  },
  {
   "cell_type": "code",
   "execution_count": 144,
   "metadata": {},
   "outputs": [
    {
     "name": "stdout",
     "output_type": "stream",
     "text": [
      "<class 'pandas.core.frame.DataFrame'>\n",
      "RangeIndex: 2260 entries, 0 to 2259\n",
      "Data columns (total 4 columns):\n",
      "id            2260 non-null int64\n",
      "name          2260 non-null object\n",
      "position      2208 non-null float64\n",
      "Unnamed: 0    2260 non-null int64\n",
      "dtypes: float64(1), int64(2), object(1)\n",
      "memory usage: 210.2 KB\n"
     ]
    }
   ],
   "source": [
    "#Check types:\n",
    "rank_info.info(memory_usage='deep')"
   ]
  },
  {
   "cell_type": "code",
   "execution_count": 145,
   "metadata": {},
   "outputs": [
    {
     "data": {
      "text/plain": [
       "id             0\n",
       "name           0\n",
       "position      52\n",
       "Unnamed: 0     0\n",
       "dtype: int64"
      ]
     },
     "metadata": {},
     "output_type": "display_data"
    },
    {
     "data": {
      "text/plain": [
       "position    2.300885\n",
       "dtype: float64"
      ]
     },
     "execution_count": 145,
     "metadata": {},
     "output_type": "execute_result"
    }
   ],
   "source": [
    "#Null check:\n",
    "null_cols = rank_info.isnull().sum()\n",
    "display(null_cols)\n",
    "null_cols[null_cols>0]/len(rank_info)*100"
   ]
  },
  {
   "cell_type": "code",
   "execution_count": 148,
   "metadata": {
    "scrolled": true
   },
   "outputs": [
    {
     "name": "stdout",
     "output_type": "stream",
     "text": [
      "Number of duplicate records dropped: 52\n"
     ]
    }
   ],
   "source": [
    "#'Position':\n",
    "#Check null values:\n",
    "before = len(rank_info)\n",
    "rank_info = rank_info.dropna()\n",
    "after = len(rank_info)\n",
    "print(f'Number of duplicate records dropped: {before - after}')"
   ]
  },
  {
   "cell_type": "code",
   "execution_count": 150,
   "metadata": {},
   "outputs": [
    {
     "name": "stdout",
     "output_type": "stream",
     "text": [
      "<class 'pandas.core.frame.DataFrame'>\n",
      "Int64Index: 2208 entries, 52 to 2259\n",
      "Data columns (total 4 columns):\n",
      "id            2208 non-null int64\n",
      "name          2208 non-null object\n",
      "position      2208 non-null int64\n",
      "Unnamed: 0    2208 non-null int64\n",
      "dtypes: int64(3), object(1)\n",
      "memory usage: 222.3 KB\n"
     ]
    }
   ],
   "source": [
    "#Delete de .0 in 'position' and transform into integrer:\n",
    "rank_info['position'] = rank_info['position'].astype('int64')\n",
    "rank_info.info(memory_usage='deep')"
   ]
  },
  {
   "cell_type": "code",
   "execution_count": 151,
   "metadata": {},
   "outputs": [],
   "source": [
    "#'Name':\n",
    "#Transform 'into a MAYUS string:\n",
    "rank_info['name'] = rank_info['name'].str.capitalize()"
   ]
  },
  {
   "cell_type": "code",
   "execution_count": 152,
   "metadata": {},
   "outputs": [
    {
     "name": "stdout",
     "output_type": "stream",
     "text": [
      "Number of columns dropped: 1\n"
     ]
    },
    {
     "data": {
      "text/html": [
       "<div>\n",
       "<style scoped>\n",
       "    .dataframe tbody tr th:only-of-type {\n",
       "        vertical-align: middle;\n",
       "    }\n",
       "\n",
       "    .dataframe tbody tr th {\n",
       "        vertical-align: top;\n",
       "    }\n",
       "\n",
       "    .dataframe thead th {\n",
       "        text-align: right;\n",
       "    }\n",
       "</style>\n",
       "<table border=\"1\" class=\"dataframe\">\n",
       "  <thead>\n",
       "    <tr style=\"text-align: right;\">\n",
       "      <th></th>\n",
       "      <th>id</th>\n",
       "      <th>name</th>\n",
       "      <th>position</th>\n",
       "    </tr>\n",
       "  </thead>\n",
       "  <tbody>\n",
       "    <tr>\n",
       "      <th>52</th>\n",
       "      <td>5948</td>\n",
       "      <td>Jeff bezos</td>\n",
       "      <td>1</td>\n",
       "    </tr>\n",
       "    <tr>\n",
       "      <th>53</th>\n",
       "      <td>7342</td>\n",
       "      <td>Bill gates</td>\n",
       "      <td>2</td>\n",
       "    </tr>\n",
       "    <tr>\n",
       "      <th>54</th>\n",
       "      <td>5447</td>\n",
       "      <td>Warren buffett</td>\n",
       "      <td>3</td>\n",
       "    </tr>\n",
       "    <tr>\n",
       "      <th>55</th>\n",
       "      <td>4420</td>\n",
       "      <td>Bernard arnault</td>\n",
       "      <td>4</td>\n",
       "    </tr>\n",
       "    <tr>\n",
       "      <th>56</th>\n",
       "      <td>4071</td>\n",
       "      <td>Mark zuckerberg</td>\n",
       "      <td>5</td>\n",
       "    </tr>\n",
       "    <tr>\n",
       "      <th>...</th>\n",
       "      <td>...</td>\n",
       "      <td>...</td>\n",
       "      <td>...</td>\n",
       "    </tr>\n",
       "    <tr>\n",
       "      <th>2255</th>\n",
       "      <td>3917</td>\n",
       "      <td>Zhao xiaoqiang</td>\n",
       "      <td>2204</td>\n",
       "    </tr>\n",
       "    <tr>\n",
       "      <th>2256</th>\n",
       "      <td>3721</td>\n",
       "      <td>Zhou liangzhang</td>\n",
       "      <td>2205</td>\n",
       "    </tr>\n",
       "    <tr>\n",
       "      <th>2257</th>\n",
       "      <td>6132</td>\n",
       "      <td>Zhu xingming</td>\n",
       "      <td>2206</td>\n",
       "    </tr>\n",
       "    <tr>\n",
       "      <th>2258</th>\n",
       "      <td>7866</td>\n",
       "      <td>Zhuo jun</td>\n",
       "      <td>2207</td>\n",
       "    </tr>\n",
       "    <tr>\n",
       "      <th>2259</th>\n",
       "      <td>2968</td>\n",
       "      <td>Olgun zorlu</td>\n",
       "      <td>2208</td>\n",
       "    </tr>\n",
       "  </tbody>\n",
       "</table>\n",
       "<p>2208 rows × 3 columns</p>\n",
       "</div>"
      ],
      "text/plain": [
       "        id             name  position\n",
       "52    5948       Jeff bezos         1\n",
       "53    7342       Bill gates         2\n",
       "54    5447   Warren buffett         3\n",
       "55    4420  Bernard arnault         4\n",
       "56    4071  Mark zuckerberg         5\n",
       "...    ...              ...       ...\n",
       "2255  3917   Zhao xiaoqiang      2204\n",
       "2256  3721  Zhou liangzhang      2205\n",
       "2257  6132     Zhu xingming      2206\n",
       "2258  7866         Zhuo jun      2207\n",
       "2259  2968      Olgun zorlu      2208\n",
       "\n",
       "[2208 rows x 3 columns]"
      ]
     },
     "metadata": {},
     "output_type": "display_data"
    }
   ],
   "source": [
    "#Delete the column 'Unnamed:0':\n",
    "after = len(rank_info.columns)\n",
    "rank_info = rank_info.drop(['Unnamed: 0'], axis=1)\n",
    "before = len(rank_info.columns)\n",
    "print(f'Number of columns dropped: {after - before}')\n",
    "display(rank_info)"
   ]
  },
  {
   "cell_type": "code",
   "execution_count": 114,
   "metadata": {},
   "outputs": [
    {
     "data": {
      "text/plain": [
       "False"
      ]
     },
     "metadata": {},
     "output_type": "display_data"
    }
   ],
   "source": [
    "#Duplicates:\n",
    "#dupli_id = [rank_info['id'].duplicated()]=='True'\n",
    "#display(dupli_id)\n",
    "#dupli_name = rank_info['name'].duplicated()\n",
    "#dupli_position = rank_info['position'].duplicated()"
   ]
  },
  {
   "cell_type": "code",
   "execution_count": 153,
   "metadata": {},
   "outputs": [
    {
     "data": {
      "text/html": [
       "<div>\n",
       "<style scoped>\n",
       "    .dataframe tbody tr th:only-of-type {\n",
       "        vertical-align: middle;\n",
       "    }\n",
       "\n",
       "    .dataframe tbody tr th {\n",
       "        vertical-align: top;\n",
       "    }\n",
       "\n",
       "    .dataframe thead th {\n",
       "        text-align: right;\n",
       "    }\n",
       "</style>\n",
       "<table border=\"1\" class=\"dataframe\">\n",
       "  <thead>\n",
       "    <tr style=\"text-align: right;\">\n",
       "      <th></th>\n",
       "      <th>id</th>\n",
       "      <th>name</th>\n",
       "      <th>position</th>\n",
       "    </tr>\n",
       "  </thead>\n",
       "  <tbody>\n",
       "    <tr>\n",
       "      <th>0</th>\n",
       "      <td>5948</td>\n",
       "      <td>Jeff bezos</td>\n",
       "      <td>1</td>\n",
       "    </tr>\n",
       "    <tr>\n",
       "      <th>1</th>\n",
       "      <td>7342</td>\n",
       "      <td>Bill gates</td>\n",
       "      <td>2</td>\n",
       "    </tr>\n",
       "    <tr>\n",
       "      <th>2</th>\n",
       "      <td>5447</td>\n",
       "      <td>Warren buffett</td>\n",
       "      <td>3</td>\n",
       "    </tr>\n",
       "    <tr>\n",
       "      <th>3</th>\n",
       "      <td>4420</td>\n",
       "      <td>Bernard arnault</td>\n",
       "      <td>4</td>\n",
       "    </tr>\n",
       "    <tr>\n",
       "      <th>4</th>\n",
       "      <td>4071</td>\n",
       "      <td>Mark zuckerberg</td>\n",
       "      <td>5</td>\n",
       "    </tr>\n",
       "    <tr>\n",
       "      <th>...</th>\n",
       "      <td>...</td>\n",
       "      <td>...</td>\n",
       "      <td>...</td>\n",
       "    </tr>\n",
       "    <tr>\n",
       "      <th>2203</th>\n",
       "      <td>3917</td>\n",
       "      <td>Zhao xiaoqiang</td>\n",
       "      <td>2204</td>\n",
       "    </tr>\n",
       "    <tr>\n",
       "      <th>2204</th>\n",
       "      <td>3721</td>\n",
       "      <td>Zhou liangzhang</td>\n",
       "      <td>2205</td>\n",
       "    </tr>\n",
       "    <tr>\n",
       "      <th>2205</th>\n",
       "      <td>6132</td>\n",
       "      <td>Zhu xingming</td>\n",
       "      <td>2206</td>\n",
       "    </tr>\n",
       "    <tr>\n",
       "      <th>2206</th>\n",
       "      <td>7866</td>\n",
       "      <td>Zhuo jun</td>\n",
       "      <td>2207</td>\n",
       "    </tr>\n",
       "    <tr>\n",
       "      <th>2207</th>\n",
       "      <td>2968</td>\n",
       "      <td>Olgun zorlu</td>\n",
       "      <td>2208</td>\n",
       "    </tr>\n",
       "  </tbody>\n",
       "</table>\n",
       "<p>2208 rows × 3 columns</p>\n",
       "</div>"
      ],
      "text/plain": [
       "        id             name  position\n",
       "0     5948       Jeff bezos         1\n",
       "1     7342       Bill gates         2\n",
       "2     5447   Warren buffett         3\n",
       "3     4420  Bernard arnault         4\n",
       "4     4071  Mark zuckerberg         5\n",
       "...    ...              ...       ...\n",
       "2203  3917   Zhao xiaoqiang      2204\n",
       "2204  3721  Zhou liangzhang      2205\n",
       "2205  6132     Zhu xingming      2206\n",
       "2206  7866         Zhuo jun      2207\n",
       "2207  2968      Olgun zorlu      2208\n",
       "\n",
       "[2208 rows x 3 columns]"
      ]
     },
     "metadata": {},
     "output_type": "display_data"
    }
   ],
   "source": [
    "#Reset index:\n",
    "rank_info = rank_info.reset_index(drop=True)\n",
    "display(rank_info)"
   ]
  },
  {
   "cell_type": "code",
   "execution_count": null,
   "metadata": {},
   "outputs": [],
   "source": []
  },
  {
   "cell_type": "code",
   "execution_count": null,
   "metadata": {},
   "outputs": [],
   "source": []
  }
 ],
 "metadata": {
  "kernelspec": {
   "display_name": "Python 3",
   "language": "python",
   "name": "python3"
  },
  "language_info": {
   "codemirror_mode": {
    "name": "ipython",
    "version": 3
   },
   "file_extension": ".py",
   "mimetype": "text/x-python",
   "name": "python",
   "nbconvert_exporter": "python",
   "pygments_lexer": "ipython3",
   "version": "3.6.9"
  }
 },
 "nbformat": 4,
 "nbformat_minor": 2
}
