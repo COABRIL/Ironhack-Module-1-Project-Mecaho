{
 "cells": [
  {
   "cell_type": "markdown",
   "metadata": {},
   "source": [
    "# Import libraries"
   ]
  },
  {
   "cell_type": "code",
   "execution_count": 8,
   "metadata": {},
   "outputs": [
    {
     "name": "stdout",
     "output_type": "stream",
     "text": [
      "Requirement already satisfied: pymysql in /home/cristina/miniconda3/envs/project1_env/lib/python3.6/site-packages (0.9.3)\n",
      "Requirement already satisfied: sqlalchemy in /home/cristina/miniconda3/envs/project1_env/lib/python3.6/site-packages (1.3.11)\n"
     ]
    }
   ],
   "source": [
    "!pip install pymysql\n",
    "import pymysql\n",
    "!pip install sqlalchemy\n",
    "from sqlalchemy import create_engine\n",
    "import pandas as pd\n",
    "from pathlib import Path"
   ]
  },
  {
   "cell_type": "markdown",
   "metadata": {},
   "source": [
    "# Conneting data"
   ]
  },
  {
   "cell_type": "code",
   "execution_count": 15,
   "metadata": {},
   "outputs": [],
   "source": [
    "def get_db(*args):\n",
    "    global db\n",
    "    DB_PATH = '../../../Ironhack-Module-1-Project-Mecaho/data/raw/cortega.db'\n",
    "    QUERY_DB = 'SELECT * FROM rank_info JOIN personal_info ON rank_info.id = personal_info.id JOIN business_info ON business_info.id = rank_info.id'\n",
    "    engine = create_engine(f'sqlite:///{DB_PATH}')\n",
    "    db = pd.read_sql_query(QUERY_DB, engine)\n",
    "\n",
    "get_db()"
   ]
  },
  {
   "cell_type": "markdown",
   "metadata": {},
   "source": [
    "## Database to CSV"
   ]
  },
  {
   "cell_type": "code",
   "execution_count": 17,
   "metadata": {},
   "outputs": [
    {
     "name": "stdout",
     "output_type": "stream",
     "text": [
      "dfforb csv file in raw folder has been created\n"
     ]
    }
   ],
   "source": [
    "def to_csv(database, folder, file):\n",
    "    database.to_csv(f'../../../Ironhack-Module-1-Project-Mecaho/data/{folder}/{file}.csv',sep=',', index = False)\n",
    "    print (f'{file}.csv file in path: \"../../../Ironhack-Module-1-Project-Mecaho/data/{folder}\" has been created')\n",
    "    \n",
    "to_csv(db, 'raw', 'dfforb')"
   ]
  },
  {
   "cell_type": "code",
   "execution_count": null,
   "metadata": {},
   "outputs": [],
   "source": []
  }
 ],
 "metadata": {
  "kernelspec": {
   "display_name": "Python 3",
   "language": "python",
   "name": "python3"
  },
  "language_info": {
   "codemirror_mode": {
    "name": "ipython",
    "version": 3
   },
   "file_extension": ".py",
   "mimetype": "text/x-python",
   "name": "python",
   "nbconvert_exporter": "python",
   "pygments_lexer": "ipython3",
   "version": "3.6.9"
  }
 },
 "nbformat": 4,
 "nbformat_minor": 2
}
